{
 "cells": [
  {
   "cell_type": "markdown",
   "source": "# 回归算法挑战\n\n预测住宅物业的销售价格取决于许多因素，包括物业的年龄、当地设施的可用性和位置。\n\n在这个挑战中，你将使用一个房地产销售交易的数据集，根据房产的特点来预测其每单位的价格。该数据中的单价是基于3.3平方米的单位测量。\n\n> **引用**。本练习中使用的数据源自于以下研究。\n>\n> *Yeh, I. C., & Hsu, T. K. (2018). 通过基于案例的推理，用比较的方法建立房地产估值模型。应用软计算，65，260-271.*。\n>\n> 这是从UCI数据集库中获得的（Dua, D. and Graff, C. (2019). [UCI机器学习资源库](http://archive.ics.uci.edu/ml)。加州欧文市。加州大学信息与计算机科学学院）。\n\n## 审查数据\n\n运行下面的单元格来加载数据并查看前几行。",
   "metadata": {
    "cell_id": "87e389d6-f5a1-4a50-97e7-8ed494535292",
    "deepnote_cell_type": "markdown",
    "deepnote_cell_height": 425.578125
   }
  },
  {
   "cell_type": "code",
   "metadata": {
    "scrolled": true,
    "cell_id": "00001-49802f6c-6f4e-49ca-a2dc-3e4e6d2bcc0f",
    "deepnote_cell_type": "code",
    "deepnote_cell_height": 138
   },
   "source": "import pandas as pd\n\n# load the training dataset\ndata = pd.read_csv('data/real_estate.csv')\ndata.head()",
   "execution_count": null,
   "outputs": []
  },
  {
   "cell_type": "markdown",
   "source": "该数据由以下变量组成。\n\n- **transaction_date** - 交易日期（例如，2013.250=2013年3月，2013.500=2013年6月，等等）。\n- **house_age** - 房龄（以年为单位）。\n- **transit_distance** - 到最近的轻轨站的距离（以米为单位）。\n- **local_convenience_stores** -步行距离内的便利店数量\n- **latitude** -地理坐标，纬度\n- **longitude** -地理坐标，经度\n- **price_per_unit**单位面积（3.3平方米）的房屋价格\n\n## 训练一个回归模型\n\n你的挑战是探索和准备数据，确定有助于预测**price_per_unit**标签的预测特征，并训练一个回归模型，在针对测试数据子集进行评估时，达到你能达到的最低均方根误差（RMSE）（必须小于**7**）。\n\n根据需要添加标记和代码单元来创建你的解决方案。",
   "metadata": {
    "cell_id": "00002-6926d7f5-56a3-4a94-9800-225c3c67c927",
    "deepnote_cell_type": "markdown",
    "deepnote_cell_height": 392.375
   }
  },
  {
   "cell_type": "code",
   "metadata": {
    "cell_id": "00003-a253d6fb-7c96-4d68-a0ac-8b45544d4ac0",
    "deepnote_cell_type": "code",
    "deepnote_cell_height": 66
   },
   "source": "# Your code to explore data and train a regression model",
   "execution_count": null,
   "outputs": []
  },
  {
   "cell_type": "markdown",
   "source": "##使用训练好的模型\n\n保存你的训练模型，然后用它来预测以下房地产交易的每单位价格。\n\n| transaction_date | house_age | transit_distance | local_convenience_stores | latitude | longitude |\n| ---------------- | --------- | ---------------- | ------------------------ | -------- | --------- |\n|2013.167|16.2|289.3248|5|24.98203|121.54348|\n|2013.000|13.6|4082.015|0|24.94155|121.50381|",
   "metadata": {
    "cell_id": "00004-38ba0dd2-5947-4d64-9aa8-d4a92f03389f",
    "deepnote_cell_type": "markdown",
    "deepnote_cell_height": 175.984375
   }
  },
  {
   "cell_type": "code",
   "metadata": {
    "cell_id": "00005-2729f608-53d1-4016-a003-c0a88ba8bdd1",
    "owner_user_id": "4bc290d7-caaa-4df9-a4f7-db8499e6a07e",
    "deepnote_cell_type": "code",
    "deepnote_cell_height": 66
   },
   "source": "# 来吧",
   "execution_count": null,
   "outputs": []
  },
  {
   "cell_type": "markdown",
   "source": "<a style='text-decoration:none;line-height:16px;display:flex;color:#5B5B62;padding:10px;justify-content:end;' href='https://deepnote.com?utm_source=created-in-deepnote-cell&projectId=259c0b31-83b0-40c3-9697-6997f75bdbbe' target=\"_blank\">\n<img alt='Created in deepnote.com' style='display:inline;max-height:16px;margin:0px;margin-right:7.5px;' src='data:image/svg+xml;base64,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' > </img>\nCreated in <span style='font-weight:600;margin-left:4px;'>Deepnote</span></a>",
   "metadata": {
    "tags": [],
    "created_in_deepnote_cell": true,
    "deepnote_cell_type": "markdown"
   }
  }
 ],
 "nbformat": 4,
 "nbformat_minor": 2,
 "metadata": {
  "kernelspec": {
   "display_name": "Python 3.6 - AzureML",
   "language": "python",
   "name": "python3-azureml"
  },
  "language_info": {
   "codemirror_mode": {
    "name": "ipython",
    "version": 3
   },
   "file_extension": ".py",
   "mimetype": "text/x-python",
   "name": "python",
   "nbconvert_exporter": "python",
   "pygments_lexer": "ipython3",
   "version": "3.6.9"
  },
  "deepnote_notebook_id": "7ffdc7f6-4417-4dec-86f2-3e7b72700221",
  "deepnote": {},
  "deepnote_execution_queue": []
 }
}